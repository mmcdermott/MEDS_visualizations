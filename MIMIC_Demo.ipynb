{
 "cells": [
  {
   "cell_type": "code",
   "execution_count": null,
   "id": "0",
   "metadata": {},
   "outputs": [],
   "source": [
    "%load_ext autoreload"
   ]
  },
  {
   "cell_type": "code",
   "execution_count": null,
   "id": "1",
   "metadata": {},
   "outputs": [],
   "source": [
    "%autoreload\n",
    "from pathlib import Path\n",
    "\n",
    "import polars as pl\n",
    "\n",
    "from MEDS_visualizations.extractors import CodeFrequency\n",
    "from MEDS_visualizations.plotters import Bar\n",
    "from MEDS_visualizations.visualization import Visualization"
   ]
  },
  {
   "cell_type": "code",
   "execution_count": null,
   "id": "2",
   "metadata": {},
   "outputs": [],
   "source": [
    "MIMIC_ROOT = Path(\"/n/data1/hms/dbmi/zaklab/MIMIC-IV/MEDS_DEV_MIMIC\")\n",
    "data_shards = list((MIMIC_ROOT / \"data\").rglob(\"*.parquet\"))\n",
    "\n",
    "\n",
    "def read_shard(fp: Path) -> pl.DataFrame:\n",
    "    return pl.read_parquet(fp, use_pyarrow=True)"
   ]
  },
  {
   "cell_type": "code",
   "execution_count": null,
   "id": "3",
   "metadata": {},
   "outputs": [],
   "source": [
    "CF = CodeFrequency(as_proportions=True)\n",
    "P = Bar(top_k=10, y_cols=[\"n_occurrences\"])\n",
    "N_shards = 1\n",
    "\n",
    "V = Visualization(extractor=CF, plotter=P)\n",
    "V.render([read_shard(fp) for fp in data_shards[:N_shards]])"
   ]
  },
  {
   "cell_type": "code",
   "execution_count": null,
   "id": "4",
   "metadata": {},
   "outputs": [],
   "source": []
  }
 ],
 "metadata": {
  "kernelspec": {
   "display_name": "Python 3 (ipykernel)",
   "language": "python",
   "name": "python3"
  },
  "language_info": {
   "codemirror_mode": {
    "name": "ipython",
    "version": 3
   },
   "file_extension": ".py",
   "mimetype": "text/x-python",
   "name": "python",
   "nbconvert_exporter": "python",
   "pygments_lexer": "ipython3",
   "version": "3.12.9"
  }
 },
 "nbformat": 4,
 "nbformat_minor": 5
}
